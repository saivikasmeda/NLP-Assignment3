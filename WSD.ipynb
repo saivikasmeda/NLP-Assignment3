{
 "cells": [
  {
   "cell_type": "code",
   "execution_count": 1,
   "metadata": {},
   "outputs": [],
   "source": [
    "import nltk\n",
    "from nltk.corpus import wordnet\n",
    "from nltk.tokenize import word_tokenize\n",
    "from nltk.corpus import stopwords"
   ]
  },
  {
   "cell_type": "code",
   "execution_count": 2,
   "metadata": {},
   "outputs": [
    {
     "name": "stderr",
     "output_type": "stream",
     "text": [
      "[nltk_data] Downloading package wordnet to /Users/student/nltk_data...\n",
      "[nltk_data]   Package wordnet is already up-to-date!\n",
      "[nltk_data] Downloading package stopwords to\n",
      "[nltk_data]     /Users/student/nltk_data...\n",
      "[nltk_data]   Package stopwords is already up-to-date!\n"
     ]
    },
    {
     "data": {
      "text/plain": [
       "True"
      ]
     },
     "execution_count": 2,
     "metadata": {},
     "output_type": "execute_result"
    }
   ],
   "source": [
    "nltk.download('wordnet')\n",
    "nltk.download('stopwords')"
   ]
  },
  {
   "cell_type": "code",
   "execution_count": 3,
   "metadata": {},
   "outputs": [],
   "source": [
    "class simpleLESKWSD :\n",
    "#     stopwords = \"\"\n",
    "    \n",
    "    def __init__(self):\n",
    "        self.stopwords = set(stopwords.words('english'))\n",
    "#         print(self.stopwords)\n",
    "        \n",
    "        \n",
    "        \n",
    "    def sense_tokenizer(self,sense):\n",
    "        tokens = set(word_tokenize(sense.definition()))\n",
    "        for example in sense.examples():\n",
    "            tokens.union(set(word_tokenize(example)))\n",
    "        tokens = set(tokens)\n",
    "        return tokens\n",
    "    \n",
    "    \n",
    "    def computeOverlap(self,signature,context):\n",
    "        gloss = signature.difference( self.stopwords)\n",
    "        context1 = context.difference( self.stopwords) \n",
    "        return len(gloss.intersection(context1))\n",
    "        \n",
    "    \n",
    "    \n",
    "    \n",
    "    def simplified_LESK(self,word,sentence):\n",
    "        \n",
    "        max_overlap = 0\n",
    "        context = set(word_tokenize(sentence))\n",
    "        word_senses = wordnet.synsets(word)\n",
    "        best_sense = word_senses[0]\n",
    "        for sense in word_senses:\n",
    "            signature = self.sense_tokenizer(sense)\n",
    "            overlap = self.computeOverlap(signature,context)\n",
    "            if overlap > max_overlap:\n",
    "                max_overlap = overlap\n",
    "                best_sense = sense\n",
    "        \n",
    "        return best_sense\n",
    "            \n",
    "   \n",
    "        \n",
    "        \n",
    "   "
   ]
  },
  {
   "cell_type": "code",
   "execution_count": 4,
   "metadata": {},
   "outputs": [],
   "source": [
    "words = [\"singer\",\"performing\",\"year\",\"festival\",\"after_all\",\"accomplished\",\"songwriter\",\"dancer\",\"style\",\"guru\",\"graced\",\"stage\",\"last\",\"joined\",\"big_sister\",\"historic\",\"headlining\",\"tour\"]\n",
    "sentence = (\"The singer will not be performing at this year's festival after all. An accomplished singer, songwriter, dancer, and style guru, she graced the festival’s stage last year when she joined her big sister during her historic, headlining tour.\")\n",
    "lesk = simpleLESKWSD()\n"
   ]
  },
  {
   "cell_type": "code",
   "execution_count": 7,
   "metadata": {
    "scrolled": true
   },
   "outputs": [
    {
     "name": "stdout",
     "output_type": "stream",
     "text": [
      "Word: singer\n",
      "best sense:  Synset('singer.n.01')\n",
      "a person who sings\n",
      "\n",
      "\n",
      "Word: performing\n",
      "best sense:  Synset('acting.n.01')\n",
      "the performance of a part or role in a drama\n",
      "\n",
      "\n",
      "Word: year\n",
      "best sense:  Synset('year.n.02')\n",
      "a period of time occupying a regular part of a calendar year that is used for some particular activity\n",
      "\n",
      "\n",
      "Word: festival\n",
      "best sense:  Synset('festival.n.01')\n",
      "a day or period of time set aside for feasting and celebration\n",
      "\n",
      "\n",
      "Word: after_all\n",
      "best sense:  Synset('after_all.r.01')\n",
      "emphasizes something to be considered\n",
      "\n",
      "\n",
      "Word: accomplished\n",
      "best sense:  Synset('carry_through.v.01')\n",
      "put in effect\n",
      "\n",
      "\n",
      "Word: songwriter\n",
      "best sense:  Synset('songwriter.n.01')\n",
      "a composer of words or music for popular songs\n",
      "\n",
      "\n",
      "Word: dancer\n",
      "best sense:  Synset('dancer.n.01')\n",
      "a performer who dances professionally\n",
      "\n",
      "\n",
      "Word: style\n",
      "best sense:  Synset('expressive_style.n.01')\n",
      "a way of expressing something (in language or art or music etc.) that is characteristic of a particular person or group of people or period\n",
      "\n",
      "\n",
      "Word: guru\n",
      "best sense:  Synset('guru.n.01')\n",
      "a Hindu or Buddhist religious leader and spiritual teacher\n",
      "\n",
      "\n",
      "Word: graced\n",
      "best sense:  Synset('decorate.v.01')\n",
      "make more attractive by adding ornament, colour, etc.\n",
      "\n",
      "\n",
      "Word: stage\n",
      "best sense:  Synset('stage.v.01')\n",
      "perform (a play), especially on a stage\n",
      "\n",
      "\n",
      "Word: last\n",
      "best sense:  Synset('last.n.02')\n",
      "the last or lowest in an ordering or series\n",
      "\n",
      "\n",
      "Word: joined\n",
      "best sense:  Synset('join.v.02')\n",
      "cause to become joined or linked\n",
      "\n",
      "\n",
      "Word: big_sister\n",
      "best sense:  Synset('big_sister.n.01')\n",
      "an older sister\n",
      "\n",
      "\n",
      "Word: historic\n",
      "best sense:  Synset('historic.s.01')\n",
      "belonging to the past; of what is important or famous in the past\n",
      "\n",
      "\n",
      "Word: headlining\n",
      "best sense:  Synset('headline.v.01')\n",
      "publicize widely or highly, as if with a headline\n",
      "\n",
      "\n",
      "Word: tour\n",
      "best sense:  Synset('tour.v.01')\n",
      "make a tour of a certain place\n",
      "\n",
      "\n"
     ]
    }
   ],
   "source": [
    "for word in words:\n",
    "    best_sense = lesk.simplified_LESK(word,sentence)\n",
    "    print(\"Word: \" + word)\n",
    "    print(\"best sense\" +\": \" , best_sense)\n",
    "    print(best_sense.definition())\n",
    "    print(\"\\n\")    "
   ]
  },
  {
   "cell_type": "code",
   "execution_count": null,
   "metadata": {},
   "outputs": [],
   "source": []
  }
 ],
 "metadata": {
  "kernelspec": {
   "display_name": "Python 3",
   "language": "python",
   "name": "python3"
  },
  "language_info": {
   "codemirror_mode": {
    "name": "ipython",
    "version": 3
   },
   "file_extension": ".py",
   "mimetype": "text/x-python",
   "name": "python",
   "nbconvert_exporter": "python",
   "pygments_lexer": "ipython3",
   "version": "3.7.7"
  }
 },
 "nbformat": 4,
 "nbformat_minor": 4
}
